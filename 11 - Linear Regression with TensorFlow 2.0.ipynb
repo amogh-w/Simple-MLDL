{
 "cells": [
  {
   "cell_type": "code",
   "execution_count": 1,
   "metadata": {},
   "outputs": [],
   "source": [
    "import numpy as np\n",
    "import tensorflow as tf\n",
    "import matplotlib.pyplot as plt"
   ]
  },
  {
   "cell_type": "code",
   "execution_count": 2,
   "metadata": {},
   "outputs": [
    {
     "data": {
      "text/plain": [
       "'2.0.0'"
      ]
     },
     "execution_count": 2,
     "metadata": {},
     "output_type": "execute_result"
    }
   ],
   "source": [
    "tf.__version__"
   ]
  },
  {
   "cell_type": "code",
   "execution_count": 3,
   "metadata": {},
   "outputs": [],
   "source": [
    "x = np.linspace(0, 3, 120)\n",
    "y = 2 * x + 0.9 + np.random.randn(x.shape[0]) * 0.3"
   ]
  },
  {
   "cell_type": "code",
   "execution_count": 4,
   "metadata": {},
   "outputs": [
    {
     "data": {
      "text/plain": [
       "((120,), (120,))"
      ]
     },
     "execution_count": 4,
     "metadata": {},
     "output_type": "execute_result"
    }
   ],
   "source": [
    "x.shape, y.shape"
   ]
  },
  {
   "cell_type": "code",
   "execution_count": 5,
   "metadata": {},
   "outputs": [
    {
     "data": {
      "text/plain": [
       "<matplotlib.collections.PathCollection at 0x28a5f69e548>"
      ]
     },
     "execution_count": 5,
     "metadata": {},
     "output_type": "execute_result"
    },
    {
     "data": {
      "image/png": "[encoded data removed]",
      "text/plain": [
       "<Figure size 1440x576 with 1 Axes>"
      ]
     },
     "metadata": {
      "needs_background": "light"
     },
     "output_type": "display_data"
    }
   ],
   "source": [
    "fig = plt.figure(figsize=(20,8))\n",
    "plt.scatter(x,y)"
   ]
  },
  {
   "cell_type": "code",
   "execution_count": 6,
   "metadata": {},
   "outputs": [],
   "source": [
    "class LinearModel:\n",
    "    def __call__(self, x):\n",
    "        return self.Weight * x + self.Bias\n",
    "    \n",
    "    def __init__(self):\n",
    "        self.Weight = tf.Variable(11.0)\n",
    "        self.Bias = tf.Variable(12.0)"
   ]
  },
  {
   "cell_type": "code",
   "execution_count": 7,
   "metadata": {},
   "outputs": [],
   "source": [
    "def loss(y, pred):\n",
    "    return tf.reduce_mean(tf.square(y - pred))"
   ]
  },
  {
   "cell_type": "code",
   "execution_count": 8,
   "metadata": {},
   "outputs": [],
   "source": [
    "def train(linear_model, x, y, lr=0.12):\n",
    "    with tf.GradientTape() as t:\n",
    "        current_loss = loss(y, linear_model(x))\n",
    "    \n",
    "    lr_weight, lr_bias = t.gradient(current_loss, [linear_model.Weight, linear_model.Bias])\n",
    "    linear_model.Weight.assign_sub(lr * lr_weight)\n",
    "    linear_model.Bias.assign_sub(lr * lr_bias)"
   ]
  },
  {
   "cell_type": "code",
   "execution_count": 9,
   "metadata": {},
   "outputs": [
    {
     "name": "stdout",
     "output_type": "stream",
     "text": [
      "Epoch Count: 0, Loss Value: 666.8778686523438\n",
      "Epoch Count: 1, Loss Value: 10.380118370056152\n",
      "Epoch Count: 2, Loss Value: 5.126260757446289\n",
      "Epoch Count: 3, Loss Value: 4.623523235321045\n",
      "Epoch Count: 4, Loss Value: 4.198652267456055\n",
      "Epoch Count: 5, Loss Value: 3.8138160705566406\n",
      "Epoch Count: 6, Loss Value: 3.465043306350708\n",
      "Epoch Count: 7, Loss Value: 3.1489522457122803\n",
      "Epoch Count: 8, Loss Value: 2.8624813556671143\n",
      "Epoch Count: 9, Loss Value: 2.6028549671173096\n",
      "Epoch Count: 10, Loss Value: 2.3675572872161865\n",
      "Epoch Count: 11, Loss Value: 2.154308319091797\n",
      "Epoch Count: 12, Loss Value: 1.9610425233840942\n",
      "Epoch Count: 13, Loss Value: 1.7858868837356567\n",
      "Epoch Count: 14, Loss Value: 1.627144455909729\n",
      "Epoch Count: 15, Loss Value: 1.483277440071106\n",
      "Epoch Count: 16, Loss Value: 1.352891445159912\n",
      "Epoch Count: 17, Loss Value: 1.2347235679626465\n",
      "Epoch Count: 18, Loss Value: 1.1276288032531738\n",
      "Epoch Count: 19, Loss Value: 1.0305695533752441\n",
      "Epoch Count: 20, Loss Value: 0.9426052570343018\n",
      "Epoch Count: 21, Loss Value: 0.8628838658332825\n",
      "Epoch Count: 22, Loss Value: 0.7906330823898315\n",
      "Epoch Count: 23, Loss Value: 0.7251526117324829\n",
      "Epoch Count: 24, Loss Value: 0.6658080220222473\n",
      "Epoch Count: 25, Loss Value: 0.6120244860649109\n",
      "Epoch Count: 26, Loss Value: 0.5632808208465576\n",
      "Epoch Count: 27, Loss Value: 0.5191047191619873\n",
      "Epoch Count: 28, Loss Value: 0.47906816005706787\n",
      "Epoch Count: 29, Loss Value: 0.44278329610824585\n",
      "Epoch Count: 30, Loss Value: 0.4098986089229584\n",
      "Epoch Count: 31, Loss Value: 0.3800954222679138\n",
      "Epoch Count: 32, Loss Value: 0.3530850112438202\n",
      "Epoch Count: 33, Loss Value: 0.32860562205314636\n",
      "Epoch Count: 34, Loss Value: 0.30642014741897583\n",
      "Epoch Count: 35, Loss Value: 0.28631359338760376\n",
      "Epoch Count: 36, Loss Value: 0.2680911421775818\n",
      "Epoch Count: 37, Loss Value: 0.2515762448310852\n",
      "Epoch Count: 38, Loss Value: 0.23660895228385925\n",
      "Epoch Count: 39, Loss Value: 0.22304414212703705\n",
      "Epoch Count: 40, Loss Value: 0.21075041592121124\n",
      "Epoch Count: 41, Loss Value: 0.19960875809192657\n",
      "Epoch Count: 42, Loss Value: 0.18951110541820526\n",
      "Epoch Count: 43, Loss Value: 0.18035970628261566\n",
      "Epoch Count: 44, Loss Value: 0.1720658391714096\n",
      "Epoch Count: 45, Loss Value: 0.16454915702342987\n",
      "Epoch Count: 46, Loss Value: 0.15773683786392212\n",
      "Epoch Count: 47, Loss Value: 0.1515628695487976\n",
      "Epoch Count: 48, Loss Value: 0.1459674835205078\n",
      "Epoch Count: 49, Loss Value: 0.14089637994766235\n",
      "Epoch Count: 50, Loss Value: 0.1363004744052887\n",
      "Epoch Count: 51, Loss Value: 0.13213524222373962\n",
      "Epoch Count: 52, Loss Value: 0.128360316157341\n",
      "Epoch Count: 53, Loss Value: 0.12493915110826492\n",
      "Epoch Count: 54, Loss Value: 0.1218385398387909\n",
      "Epoch Count: 55, Loss Value: 0.1190284937620163\n",
      "Epoch Count: 56, Loss Value: 0.11648177355527878\n",
      "Epoch Count: 57, Loss Value: 0.11417368799448013\n",
      "Epoch Count: 58, Loss Value: 0.11208187788724899\n",
      "Epoch Count: 59, Loss Value: 0.11018610745668411\n",
      "Epoch Count: 60, Loss Value: 0.1084679439663887\n",
      "Epoch Count: 61, Loss Value: 0.1069108173251152\n",
      "Epoch Count: 62, Loss Value: 0.10549960285425186\n",
      "Epoch Count: 63, Loss Value: 0.10422062128782272\n",
      "Epoch Count: 64, Loss Value: 0.1030615046620369\n",
      "Epoch Count: 65, Loss Value: 0.10201095789670944\n",
      "Epoch Count: 66, Loss Value: 0.10105889290571213\n",
      "Epoch Count: 67, Loss Value: 0.10019604861736298\n",
      "Epoch Count: 68, Loss Value: 0.09941404312849045\n",
      "Epoch Count: 69, Loss Value: 0.09870530664920807\n",
      "Epoch Count: 70, Loss Value: 0.09806299209594727\n",
      "Epoch Count: 71, Loss Value: 0.09748087078332901\n",
      "Epoch Count: 72, Loss Value: 0.09695332497358322\n",
      "Epoch Count: 73, Loss Value: 0.09647517651319504\n",
      "Epoch Count: 74, Loss Value: 0.09604183584451675\n",
      "Epoch Count: 75, Loss Value: 0.09564908593893051\n",
      "Epoch Count: 76, Loss Value: 0.09529318660497665\n",
      "Epoch Count: 77, Loss Value: 0.09497061371803284\n",
      "Epoch Count: 78, Loss Value: 0.09467825293540955\n",
      "Epoch Count: 79, Loss Value: 0.09441330283880234\n",
      "Epoch Count: 80, Loss Value: 0.09417318552732468\n",
      "Epoch Count: 81, Loss Value: 0.09395556151866913\n",
      "Epoch Count: 82, Loss Value: 0.09375834465026855\n",
      "Epoch Count: 83, Loss Value: 0.09357961267232895\n",
      "Epoch Count: 84, Loss Value: 0.09341760724782944\n",
      "Epoch Count: 85, Loss Value: 0.09327077865600586\n",
      "Epoch Count: 86, Loss Value: 0.0931377187371254\n",
      "Epoch Count: 87, Loss Value: 0.09301711618900299\n",
      "Epoch Count: 88, Loss Value: 0.09290782362222672\n",
      "Epoch Count: 89, Loss Value: 0.0928087905049324\n",
      "Epoch Count: 90, Loss Value: 0.09271902590990067\n",
      "Epoch Count: 91, Loss Value: 0.09263765811920166\n",
      "Epoch Count: 92, Loss Value: 0.0925639197230339\n",
      "Epoch Count: 93, Loss Value: 0.09249710291624069\n",
      "Epoch Count: 94, Loss Value: 0.0924365371465683\n",
      "Epoch Count: 95, Loss Value: 0.09238164871931076\n",
      "Epoch Count: 96, Loss Value: 0.0923319160938263\n",
      "Epoch Count: 97, Loss Value: 0.09228682518005371\n",
      "Epoch Count: 98, Loss Value: 0.09224596619606018\n",
      "Epoch Count: 99, Loss Value: 0.09220895916223526\n"
     ]
    }
   ],
   "source": [
    "linear_model = LinearModel()\n",
    "Weights, Biases = [], []\n",
    "epochs = 100\n",
    "\n",
    "for epoch_count in range(epochs):\n",
    "    Weights.append(linear_model.Weight.numpy())\n",
    "    Biases.append(linear_model.Bias.numpy())\n",
    "    real_loss = loss(y, linear_model(x))\n",
    "    train(linear_model, x, y, lr=0.12)\n",
    "    print(f'Epoch Count: {epoch_count}, Loss Value: {real_loss.numpy()}')"
   ]
  },
  {
   "cell_type": "code",
   "execution_count": 10,
   "metadata": {},
   "outputs": [],
   "source": [
    "m_pred, c_pred = linear_model.Weight.numpy(), linear_model.Bias.numpy()"
   ]
  },
  {
   "cell_type": "code",
   "execution_count": 11,
   "metadata": {},
   "outputs": [],
   "source": [
    "y_pred = m_pred*x + c_pred"
   ]
  },
  {
   "cell_type": "code",
   "execution_count": 12,
   "metadata": {},
   "outputs": [
    {
     "data": {
      "text/plain": [
       "<matplotlib.collections.PathCollection at 0x28a5fa53bc8>"
      ]
     },
     "execution_count": 12,
     "metadata": {},
     "output_type": "execute_result"
    },
    {
     "data": {
      "image/png": "[encoded data removed]",
      "text/plain": [
       "<Figure size 1440x576 with 1 Axes>"
      ]
     },
     "metadata": {
      "needs_background": "light"
     },
     "output_type": "display_data"
    }
   ],
   "source": [
    "fig = plt.figure(figsize=(20,8))\n",
    "plt.plot(x, y_pred, 'r')\n",
    "plt.scatter(x,y)"
   ]
  }
 ],
 "metadata": {
  "kernelspec": {
   "display_name": "Python 3",
   "language": "python",
   "name": "python3"
  },
  "language_info": {
   "codemirror_mode": {
    "name": "ipython",
    "version": 3
   },
   "file_extension": ".py",
   "mimetype": "text/x-python",
   "name": "python",
   "nbconvert_exporter": "python",
   "pygments_lexer": "ipython3",
   "version": "3.7.6"
  }
 },
 "nbformat": 4,
 "nbformat_minor": 2
}
