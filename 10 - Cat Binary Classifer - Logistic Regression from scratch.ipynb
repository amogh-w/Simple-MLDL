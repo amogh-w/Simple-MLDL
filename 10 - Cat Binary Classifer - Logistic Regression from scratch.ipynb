{
 "cells": [
  {
   "cell_type": "code",
   "execution_count": 1,
   "metadata": {},
   "outputs": [],
   "source": [
    "import os\n",
    "from random import shuffle\n",
    "from tqdm import tqdm\n",
    "import cv2\n",
    "import cupy as cp\n",
    "import matplotlib.pyplot as plt"
   ]
  },
  {
   "cell_type": "code",
   "execution_count": 2,
   "metadata": {},
   "outputs": [
    {
     "data": {
      "text/plain": [
       "('C:\\\\Users\\\\Amogh\\\\Documents\\\\Study\\\\MLDL\\\\datasets\\\\cat_and_dog\\\\training_set\\\\training_set',\n",
       " 'C:\\\\Users\\\\Amogh\\\\Documents\\\\Study\\\\MLDL\\\\datasets\\\\cat_and_dog\\\\test_set\\\\test_set')"
      ]
     },
     "execution_count": 2,
     "metadata": {},
     "output_type": "execute_result"
    }
   ],
   "source": [
    "TRAIN_DIR = os.getcwd() + '\\\\datasets\\\\cat_and_dog\\\\training_set\\\\training_set'\n",
    "TEST_DIR = os.getcwd() + '\\\\datasets\\\\cat_and_dog\\\\test_set\\\\test_set'\n",
    "TRAIN_DIR, TEST_DIR"
   ]
  },
  {
   "cell_type": "code",
   "execution_count": 3,
   "metadata": {},
   "outputs": [],
   "source": [
    "IMAGE_DIM = 64"
   ]
  },
  {
   "cell_type": "code",
   "execution_count": 4,
   "metadata": {},
   "outputs": [
    {
     "data": {
      "text/plain": [
       "(200, 50)"
      ]
     },
     "execution_count": 4,
     "metadata": {},
     "output_type": "execute_result"
    }
   ],
   "source": [
    "train_images_cat = [TRAIN_DIR+'\\\\cats\\\\'+i for i in os.listdir(TRAIN_DIR+'\\\\cats')]\n",
    "train_images_dog = [TRAIN_DIR+'\\\\dogs\\\\'+i for i in os.listdir(TRAIN_DIR+'\\\\dogs')]\n",
    "test_images_cat = [TEST_DIR+'\\\\cats\\\\'+i for i in os.listdir(TEST_DIR+'\\\\cats')]\n",
    "test_images_dog = [TEST_DIR+'\\\\dogs\\\\'+i for i in os.listdir(TEST_DIR+'\\\\dogs')]\n",
    "train_images = train_images_cat[0:150] + train_images_dog[0:50]\n",
    "shuffle(train_images)\n",
    "test_images = test_images_cat[0:38] + test_images_dog[0:12]\n",
    "shuffle(test_images)\n",
    "len(train_images), len(test_images)"
   ]
  },
  {
   "cell_type": "code",
   "execution_count": 5,
   "metadata": {},
   "outputs": [],
   "source": [
    "def find_animal(file_name):\n",
    "    animal = file_name.split('.')[0].split('\\\\')[-1]\n",
    "    if(animal == 'dog'): return 0\n",
    "    elif(animal == 'cat'): return 1"
   ]
  },
  {
   "cell_type": "code",
   "execution_count": 6,
   "metadata": {},
   "outputs": [],
   "source": [
    "def create_data(images_list):\n",
    "    data = []\n",
    "    for file_name in tqdm(images_list):\n",
    "        animal = find_animal(file_name)\n",
    "        resized_image = cv2.resize(cv2.imread(file_name), (IMAGE_DIM, IMAGE_DIM), interpolation=cv2.INTER_AREA)\n",
    "        data.append([cp.array(resized_image), animal])\n",
    "    shuffle(data)\n",
    "    return data"
   ]
  },
  {
   "cell_type": "code",
   "execution_count": 7,
   "metadata": {
    "scrolled": true
   },
   "outputs": [
    {
     "name": "stderr",
     "output_type": "stream",
     "text": [
      "100%|███████████████████████████████████████████████████████████████████████████████| 200/200 [00:00<00:00, 252.21it/s]\n",
      "100%|█████████████████████████████████████████████████████████████████████████████████| 50/50 [00:00<00:00, 312.50it/s]\n"
     ]
    }
   ],
   "source": [
    "training_data = create_data(train_images)\n",
    "testing_data = create_data(test_images)"
   ]
  },
  {
   "cell_type": "code",
   "execution_count": 8,
   "metadata": {},
   "outputs": [],
   "source": [
    "x_train = cp.stack([i[0] for i in training_data]).reshape(-1, IMAGE_DIM, IMAGE_DIM, 3)\n",
    "y_train = cp.array([i[1] for i in training_data]).reshape(1,-1)\n",
    "x_test = cp.stack([i[0] for i in testing_data]).reshape(-1, IMAGE_DIM, IMAGE_DIM, 3)\n",
    "y_test = cp.array([i[1] for i in testing_data]).reshape(1,-1)"
   ]
  },
  {
   "cell_type": "code",
   "execution_count": 9,
   "metadata": {},
   "outputs": [
    {
     "data": {
      "text/plain": [
       "((200, 64, 64, 3), (1, 200), (50, 64, 64, 3), (1, 50))"
      ]
     },
     "execution_count": 9,
     "metadata": {},
     "output_type": "execute_result"
    }
   ],
   "source": [
    "x_train.shape, y_train.shape, x_test.shape, y_test.shape"
   ]
  },
  {
   "cell_type": "code",
   "execution_count": 10,
   "metadata": {},
   "outputs": [
    {
     "name": "stdout",
     "output_type": "stream",
     "text": [
      "m_train = 200\n",
      "m_test = 50\n",
      "image_dim = 64\n"
     ]
    }
   ],
   "source": [
    "print('m_train = {}'.format(x_train.shape[0]))\n",
    "print('m_test = {}'.format(x_test.shape[0]))\n",
    "print('image_dim = {}'.format(x_train.shape[1]))"
   ]
  },
  {
   "cell_type": "code",
   "execution_count": 11,
   "metadata": {},
   "outputs": [],
   "source": [
    "x_train_flatten = x_train.reshape(-1, x_train.shape[0])\n",
    "x_test_flatten = x_test.reshape(-1, x_test.shape[0])"
   ]
  },
  {
   "cell_type": "code",
   "execution_count": 12,
   "metadata": {},
   "outputs": [
    {
     "data": {
      "text/plain": [
       "((12288, 200), (1, 200), (12288, 50), (1, 50))"
      ]
     },
     "execution_count": 12,
     "metadata": {},
     "output_type": "execute_result"
    }
   ],
   "source": [
    "x_train_flatten.shape, y_train.shape, x_test_flatten.shape, y_test.shape"
   ]
  },
  {
   "cell_type": "code",
   "execution_count": 13,
   "metadata": {},
   "outputs": [],
   "source": [
    "x_train_final = x_train_flatten / 225\n",
    "x_test_final = x_test_flatten / 225"
   ]
  },
  {
   "cell_type": "code",
   "execution_count": 14,
   "metadata": {},
   "outputs": [],
   "source": [
    "def sigmoid(z):\n",
    "    s = 1 / (1 + cp.exp(-z))\n",
    "    return s"
   ]
  },
  {
   "cell_type": "code",
   "execution_count": 15,
   "metadata": {},
   "outputs": [
    {
     "name": "stdout",
     "output_type": "stream",
     "text": [
      "sigmoid(0) = 0.5\n",
      "sigmoid(9.2) = 0.9998989708060922\n"
     ]
    }
   ],
   "source": [
    "print (\"sigmoid(0) = \" + str(sigmoid(0)))\n",
    "print (\"sigmoid(9.2) = \" + str(sigmoid(9.2)))"
   ]
  },
  {
   "cell_type": "code",
   "execution_count": 16,
   "metadata": {},
   "outputs": [],
   "source": [
    "def initialize_with_zeros(dim):\n",
    "    w = cp.zeros(shape=(dim, 1))\n",
    "    b = 0\n",
    "    assert(w.shape == (dim, 1))\n",
    "    assert(isinstance(b, float) or isinstance(b, int))\n",
    "    return w, b"
   ]
  },
  {
   "cell_type": "code",
   "execution_count": 17,
   "metadata": {},
   "outputs": [
    {
     "name": "stdout",
     "output_type": "stream",
     "text": [
      "w = [[0.]\n",
      " [0.]\n",
      " [0.]\n",
      " [0.]\n",
      " [0.]]\n",
      "b = 0\n"
     ]
    }
   ],
   "source": [
    "dim = 5\n",
    "w, b = initialize_with_zeros(dim)\n",
    "print (\"w = \" + str(w))\n",
    "print (\"b = \" + str(b))"
   ]
  },
  {
   "cell_type": "code",
   "execution_count": 18,
   "metadata": {},
   "outputs": [],
   "source": [
    "def propagate(w, b, X, Y):\n",
    "    m = X.shape[1]\n",
    "    A = sigmoid(cp.dot(w.T, X) + b)\n",
    "    cost = (-1 / m) * cp.sum(Y * cp.log(A) + (1 - Y) * (cp.log(1 - A)))\n",
    "    \n",
    "    dw = (1 / m) * cp.dot(X, (A - Y).T)\n",
    "    db = (1 / m) * cp.sum(A - Y)\n",
    "    \n",
    "    assert(dw.shape == w.shape)\n",
    "    assert(db.dtype == float)\n",
    "    \n",
    "    cost = cp.squeeze(cost)\n",
    "    assert(cost.shape == ())\n",
    "    \n",
    "    grads = {\"dw\": dw, \"db\": db}\n",
    "    \n",
    "    return grads, cost"
   ]
  },
  {
   "cell_type": "code",
   "execution_count": 19,
   "metadata": {},
   "outputs": [
    {
     "name": "stdout",
     "output_type": "stream",
     "text": [
      "dw = [[0.99993216]\n",
      " [1.99980262]]\n",
      "db = 0.49993523062470574\n",
      "cost = 6.000064773192205\n"
     ]
    }
   ],
   "source": [
    "w, b, X, Y = cp.array([[1], [2]]), 2, cp.array([[1,2], [3,4]]), cp.array([[1, 0]])\n",
    "grads, cost = propagate(w, b, X, Y)\n",
    "print (\"dw = \" + str(grads[\"dw\"]))\n",
    "print (\"db = \" + str(grads[\"db\"]))\n",
    "print (\"cost = \" + str(cost))"
   ]
  },
  {
   "cell_type": "code",
   "execution_count": 20,
   "metadata": {},
   "outputs": [],
   "source": [
    "def optimize(w, b, X, Y, num_iterations, learning_rate, print_cost = False):\n",
    "    costs = []\n",
    "    for i in range(num_iterations):\n",
    "        grads, cost = propagate(w, b, X, Y)\n",
    "        dw = grads[\"dw\"]\n",
    "        db = grads[\"db\"]\n",
    "        \n",
    "        w = w - learning_rate * dw\n",
    "        b = b - learning_rate * db\n",
    "        \n",
    "        if i % 100 == 0:\n",
    "            costs.append(cost)\n",
    "            \n",
    "        if print_cost and i % 100 == 0:\n",
    "            print(\"Cost after iteration {}: {}\".format(i, cost))\n",
    "            \n",
    "    params = {\"w\": w, \"b\": b}\n",
    "    grads = {\"dw\": dw, \"db\": db}\n",
    "    \n",
    "    return params, grads, costs"
   ]
  },
  {
   "cell_type": "code",
   "execution_count": 21,
   "metadata": {},
   "outputs": [
    {
     "name": "stdout",
     "output_type": "stream",
     "text": [
      "w = [[0.1124579 ]\n",
      " [0.23106775]]\n",
      "b = 1.5593049248448891\n",
      "dw = [[0.90158428]\n",
      " [1.76250842]]\n",
      "db = 0.4304620716786828\n"
     ]
    }
   ],
   "source": [
    "params, grads, costs = optimize(w, b, X, Y, num_iterations= 100, learning_rate = 0.009, print_cost = False)\n",
    "\n",
    "print (\"w = \" + str(params[\"w\"]))\n",
    "print (\"b = \" + str(params[\"b\"]))\n",
    "print (\"dw = \" + str(grads[\"dw\"]))\n",
    "print (\"db = \" + str(grads[\"db\"]))"
   ]
  },
  {
   "cell_type": "code",
   "execution_count": 22,
   "metadata": {},
   "outputs": [],
   "source": [
    "def predict(w, b, X):\n",
    "    m = X.shape[1]\n",
    "    Y_prediction = cp.zeros((1, m))\n",
    "    A = sigmoid(cp.dot(w.T, X) + b)\n",
    "    \n",
    "    for i in range(A.shape[1]):\n",
    "        Y_prediction[0, i] = 1 if A[0, i] > 0.5 else 0\n",
    "    \n",
    "    assert(Y_prediction.shape == (1, m))\n",
    "    \n",
    "    return Y_prediction"
   ]
  },
  {
   "cell_type": "code",
   "execution_count": 23,
   "metadata": {},
   "outputs": [
    {
     "name": "stdout",
     "output_type": "stream",
     "text": [
      "predictions = [[1. 1.]]\n"
     ]
    }
   ],
   "source": [
    "print(\"predictions = \" + str(predict(w, b, X)))"
   ]
  },
  {
   "cell_type": "code",
   "execution_count": 24,
   "metadata": {},
   "outputs": [],
   "source": [
    "def model(X_train, Y_train, X_test, Y_test, num_iterations=2000, learning_rate=0.005, print_cost=False):\n",
    "    w, b = initialize_with_zeros(X_train.shape[0])\n",
    "    parameters, grads, costs = optimize(w, b, X_train, Y_train, num_iterations, learning_rate, print_cost)\n",
    "    w = parameters[\"w\"]\n",
    "    b = parameters[\"b\"]\n",
    "    Y_prediction_test = predict(w, b, X_test)\n",
    "    Y_prediction_train = predict(w, b, X_train)\n",
    "    print(\"Train Accuracy: {} %\".format(100 - cp.mean(cp.abs(Y_prediction_train - Y_train)) * 100))\n",
    "    print(\"Test Accuracy: {} %\".format(100 - cp.mean(cp.abs(Y_prediction_test - Y_test)) * 100))  \n",
    "    d = {\"costs\": costs,\n",
    "         \"Y_prediction_test\": Y_prediction_test, \n",
    "         \"Y_prediction_train\" : Y_prediction_train, \n",
    "         \"w\" : w, \n",
    "         \"b\" : b,\n",
    "         \"learning_rate\" : learning_rate,\n",
    "         \"num_iterations\": num_iterations}\n",
    "    return d"
   ]
  },
  {
   "cell_type": "code",
   "execution_count": 25,
   "metadata": {},
   "outputs": [
    {
     "name": "stdout",
     "output_type": "stream",
     "text": [
      "Cost after iteration 0: 0.6931471805599452\n",
      "Cost after iteration 100: 0.5415223689006443\n",
      "Cost after iteration 200: 0.527357671821337\n",
      "Cost after iteration 300: 0.5159445558708889\n",
      "Cost after iteration 400: 0.5062597027630354\n",
      "Cost after iteration 500: 0.49778745449755024\n",
      "Cost after iteration 600: 0.4902189130153728\n",
      "Cost after iteration 700: 0.4833511014551376\n",
      "Cost after iteration 800: 0.4770426673429428\n",
      "Cost after iteration 900: 0.4711911722448447\n",
      "Cost after iteration 1000: 0.4657201385523797\n",
      "Cost after iteration 1100: 0.4605711007196577\n",
      "Cost after iteration 1200: 0.4556984684246386\n",
      "Cost after iteration 1300: 0.4510660768048524\n",
      "Cost after iteration 1400: 0.4466447993409932\n",
      "Cost after iteration 1500: 0.4424108556708144\n",
      "Cost after iteration 1600: 0.43834458768132023\n",
      "Cost after iteration 1700: 0.4344295589952558\n",
      "Cost after iteration 1800: 0.4306518824313754\n",
      "Cost after iteration 1900: 0.4269997110090891\n",
      "Train Accuracy: 81.5 %\n",
      "Test Accuracy: 76.0 %\n"
     ]
    }
   ],
   "source": [
    "d = model(x_train_final, y_train, x_test_final, y_test, num_iterations=2000, learning_rate=0.0008, print_cost=True)"
   ]
  },
  {
   "cell_type": "code",
   "execution_count": 26,
   "metadata": {},
   "outputs": [
    {
     "data": {
      "image/png": "[encoded data removed]",
      "text/plain": [
       "<Figure size 432x288 with 1 Axes>"
      ]
     },
     "metadata": {
      "needs_background": "light"
     },
     "output_type": "display_data"
    }
   ],
   "source": [
    "costs = (d['costs'])\n",
    "plt.plot(costs)\n",
    "plt.ylabel('cost')\n",
    "plt.xlabel('iterations (per hundreds)')\n",
    "plt.title(\"Learning rate =\" + str(d[\"learning_rate\"]))\n",
    "plt.show()"
   ]
  },
  {
   "cell_type": "code",
   "execution_count": 27,
   "metadata": {},
   "outputs": [
    {
     "name": "stdout",
     "output_type": "stream",
     "text": [
      "Learning rate: 0.001\n",
      "Train Accuracy: 82.0 %\n",
      "Test Accuracy: 76.0 %\n",
      "---\n",
      "Learning rate: 0.0005\n",
      "Train Accuracy: 78.5 %\n",
      "Test Accuracy: 76.0 %\n",
      "---\n",
      "Learning rate: 0.0001\n",
      "Train Accuracy: 75.0 %\n",
      "Test Accuracy: 76.0 %\n",
      "---\n"
     ]
    },
    {
     "data": {
      "image/png": "[encoded data removed]",
      "text/plain": [
       "<Figure size 432x288 with 1 Axes>"
      ]
     },
     "metadata": {
      "needs_background": "light"
     },
     "output_type": "display_data"
    }
   ],
   "source": [
    "learning_rates = [0.001, 0.0005, 0.0001]\n",
    "models = {}\n",
    "\n",
    "for i in learning_rates:\n",
    "    print(\"Learning rate: \" + str(i))\n",
    "    models[str(i)] = model(x_train_final, y_train, x_test_final, y_test, num_iterations=2000, learning_rate=i, print_cost=False)\n",
    "    print(\"---\")\n",
    "for i in learning_rates:\n",
    "    plt.plot(models[str(i)][\"costs\"], label= str(models[str(i)][\"learning_rate\"]))\n",
    "\n",
    "plt.ylabel('cost')\n",
    "plt.xlabel('iterations')\n",
    "\n",
    "legend = plt.legend(loc='upper center', shadow=True)\n",
    "frame = legend.get_frame()\n",
    "frame.set_facecolor('0.90')\n",
    "plt.show()"
   ]
  }
 ],
 "metadata": {
  "kernelspec": {
   "display_name": "Python 3",
   "language": "python",
   "name": "python3"
  },
  "language_info": {
   "codemirror_mode": {
    "name": "ipython",
    "version": 3
   },
   "file_extension": ".py",
   "mimetype": "text/x-python",
   "name": "python",
   "nbconvert_exporter": "python",
   "pygments_lexer": "ipython3",
   "version": "3.7.6"
  }
 },
 "nbformat": 4,
 "nbformat_minor": 2
}
